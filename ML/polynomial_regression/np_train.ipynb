{
 "cells": [
  {
   "cell_type": "code",
   "execution_count": 3,
   "id": "45c59d45",
   "metadata": {},
   "outputs": [],
   "source": [
    "import numpy as np    \n",
    "import time\n"
   ]
  },
  {
   "cell_type": "markdown",
   "id": "7df93664",
   "metadata": {},
   "source": [
    "Creating a multimensional array with numpy"
   ]
  },
  {
   "cell_type": "code",
   "execution_count": 4,
   "id": "b81b5e10",
   "metadata": {},
   "outputs": [
    {
     "name": "stdout",
     "output_type": "stream",
     "text": [
      "[[1 2 3]\n",
      " [4 5 6]] (2, 3)\n"
     ]
    }
   ],
   "source": [
    "a = np.array([[1,2,3], [4,5,6]])\n",
    "print(a, a.shape)"
   ]
  },
  {
   "cell_type": "markdown",
   "id": "b0848672",
   "metadata": {},
   "source": [
    "Accessing data from arrays (Indexing)"
   ]
  },
  {
   "cell_type": "code",
   "execution_count": 5,
   "id": "43128652",
   "metadata": {},
   "outputs": [
    {
     "name": "stdout",
     "output_type": "stream",
     "text": [
      "6\n"
     ]
    }
   ],
   "source": [
    "print(a[1][2])"
   ]
  },
  {
   "cell_type": "code",
   "execution_count": null,
   "id": "c17b8546",
   "metadata": {},
   "outputs": [
    {
     "name": "stdout",
     "output_type": "stream",
     "text": [
      "45\n"
     ]
    }
   ],
   "source": [
    "b = np.arange(50)\n",
    "print(b[-5])"
   ]
  },
  {
   "cell_type": "markdown",
   "id": "202af386",
   "metadata": {},
   "source": [
    "Creating subarrays (Slicing)"
   ]
  },
  {
   "cell_type": "code",
   "execution_count": 19,
   "id": "2218a705",
   "metadata": {},
   "outputs": [
    {
     "name": "stdout",
     "output_type": "stream",
     "text": [
      "[5 7 9] [45 46 47 48 49] [0 2 4 6 8]\n"
     ]
    }
   ],
   "source": [
    "# array[start:stop:step]\n",
    "print(b[5: 10: 2], b[45:], b[:10:2])"
   ]
  },
  {
   "cell_type": "code",
   "execution_count": 21,
   "id": "5dc6a944",
   "metadata": {},
   "outputs": [
    {
     "name": "stdout",
     "output_type": "stream",
     "text": [
      "24.5\n"
     ]
    }
   ],
   "source": [
    "c = np.mean(b)\n",
    "print(c)"
   ]
  },
  {
   "cell_type": "markdown",
   "id": "3ad94e05",
   "metadata": {},
   "source": [
    "Vector dot product vs scalar product"
   ]
  },
  {
   "cell_type": "code",
   "execution_count": 26,
   "id": "c0c9dfca",
   "metadata": {},
   "outputs": [
    {
     "name": "stdout",
     "output_type": "stream",
     "text": [
      "[1 2 3] [4 5 6]\n",
      "Vector dot product: 32\n",
      "Scalar product: [ 4 10 18]\n"
     ]
    }
   ],
   "source": [
    "print(a, b)\n",
    "a = np.array([1,2,3])\n",
    "b = np.array([4,5,6])\n",
    "print(f\"Vector dot product: {np.dot(a, b)}\")\n",
    "print(f\"Scalar product: {a * b}\")"
   ]
  },
  {
   "cell_type": "markdown",
   "id": "2f47e6f3",
   "metadata": {},
   "source": [
    "A BIdimensional array is a Matrix!"
   ]
  },
  {
   "cell_type": "code",
   "execution_count": 27,
   "id": "c38b5e43",
   "metadata": {},
   "outputs": [
    {
     "name": "stdout",
     "output_type": "stream",
     "text": [
      "Matrix shape: (2, 3)\n"
     ]
    }
   ],
   "source": [
    "m = np.array([[1,2,3], [4,5,6]])\n",
    "print(f\"Matrix shape: {m.shape}\")"
   ]
  },
  {
   "cell_type": "code",
   "execution_count": 28,
   "id": "d6451d70",
   "metadata": {},
   "outputs": [
    {
     "name": "stdout",
     "output_type": "stream",
     "text": [
      "[[0 1 2]\n",
      " [3 4 5]]\n"
     ]
    }
   ],
   "source": [
    "a = np.arange(6).reshape(-1, 3)  \n",
    "print(a)"
   ]
  },
  {
   "cell_type": "markdown",
   "id": "f449140c",
   "metadata": {},
   "source": [
    "Slicing matrices"
   ]
  },
  {
   "cell_type": "code",
   "execution_count": 32,
   "id": "d58904e3",
   "metadata": {},
   "outputs": [
    {
     "name": "stdout",
     "output_type": "stream",
     "text": [
      "first two elements: [[0 1]\n",
      " [3 4]]\n"
     ]
    }
   ],
   "source": [
    "b = a[:, 0: 2: 1]\n",
    "print(f\"first two elements: {b}\")"
   ]
  }
 ],
 "metadata": {
  "kernelspec": {
   "display_name": "Python 3",
   "language": "python",
   "name": "python3"
  },
  "language_info": {
   "codemirror_mode": {
    "name": "ipython",
    "version": 3
   },
   "file_extension": ".py",
   "mimetype": "text/x-python",
   "name": "python",
   "nbconvert_exporter": "python",
   "pygments_lexer": "ipython3",
   "version": "3.12.6"
  }
 },
 "nbformat": 4,
 "nbformat_minor": 5
}
